{
 "cells": [
  {
   "cell_type": "code",
   "execution_count": 1,
   "id": "cf6977ef",
   "metadata": {},
   "outputs": [],
   "source": [
    "import numpy as np\n",
    "import pandas as pd\n",
    "import matplotlib.pyplot as plt"
   ]
  },
  {
   "cell_type": "code",
   "execution_count": 2,
   "id": "580ce412",
   "metadata": {},
   "outputs": [],
   "source": [
    "from sklearn.datasets import load_iris\n",
    "iris = load_iris()"
   ]
  },
  {
   "cell_type": "code",
   "execution_count": 3,
   "id": "8a04d01e",
   "metadata": {},
   "outputs": [
    {
     "data": {
      "text/plain": [
       "dict_keys(['data', 'target', 'frame', 'target_names', 'DESCR', 'feature_names', 'filename'])"
      ]
     },
     "execution_count": 3,
     "metadata": {},
     "output_type": "execute_result"
    }
   ],
   "source": [
    "iris.keys()"
   ]
  },
  {
   "cell_type": "code",
   "execution_count": 4,
   "id": "9caed3da",
   "metadata": {},
   "outputs": [],
   "source": [
    "iris_features = iris.feature_names"
   ]
  },
  {
   "cell_type": "code",
   "execution_count": 18,
   "id": "e634febe",
   "metadata": {},
   "outputs": [],
   "source": [
    "df_data = pd.DataFrame(iris.data, columns = iris_features)\n",
    "df_labels = pd.DataFrame(iris.target, columns = ['label'])"
   ]
  },
  {
   "cell_type": "code",
   "execution_count": 19,
   "id": "12a1a8f1",
   "metadata": {},
   "outputs": [],
   "source": [
    "X = df_data.to_numpy()"
   ]
  },
  {
   "cell_type": "code",
   "execution_count": 20,
   "id": "16079b46",
   "metadata": {},
   "outputs": [
    {
     "data": {
      "text/plain": [
       "label\n",
       "0        50\n",
       "1        50\n",
       "2        50\n",
       "dtype: int64"
      ]
     },
     "execution_count": 20,
     "metadata": {},
     "output_type": "execute_result"
    }
   ],
   "source": [
    "y=df_labels\n",
    "y.value_counts()"
   ]
  },
  {
   "cell_type": "code",
   "execution_count": 21,
   "id": "c2178e12",
   "metadata": {},
   "outputs": [],
   "source": [
    "n_features = 1\n",
    "X = X.reshape((X.shape[0], X.shape[1], n_features))"
   ]
  },
  {
   "cell_type": "code",
   "execution_count": 22,
   "id": "c8b5c630",
   "metadata": {},
   "outputs": [
    {
     "data": {
      "text/plain": [
       "(150, 4, 1)"
      ]
     },
     "execution_count": 22,
     "metadata": {},
     "output_type": "execute_result"
    }
   ],
   "source": [
    "X.shape"
   ]
  },
  {
   "cell_type": "code",
   "execution_count": 23,
   "id": "4dae2670",
   "metadata": {},
   "outputs": [],
   "source": [
    "y = pd.get_dummies(y).values\n",
    "\n",
    "\n",
    "from sklearn.model_selection import train_test_split\n",
    "X_train,X_test, y_train,y_test = train_test_split(X,y,test_size=0.2,random_state=0) "
   ]
  },
  {
   "cell_type": "code",
   "execution_count": 24,
   "id": "6485d3df",
   "metadata": {},
   "outputs": [
    {
     "data": {
      "text/plain": [
       "4"
      ]
     },
     "execution_count": 24,
     "metadata": {},
     "output_type": "execute_result"
    }
   ],
   "source": [
    "n_steps = X.shape[1]\n",
    "n_steps"
   ]
  },
  {
   "cell_type": "code",
   "execution_count": 32,
   "id": "061add5a",
   "metadata": {},
   "outputs": [],
   "source": [
    "from keras.models import Sequential\n",
    "from keras.layers import Dense\n",
    "from keras.layers import Flatten\n",
    "from keras import models\n",
    "from keras.layers.convolutional import Conv1D\n",
    "from keras.layers.convolutional import MaxPooling1D\n",
    "from keras.optimizers import Adam"
   ]
  },
  {
   "cell_type": "code",
   "execution_count": 33,
   "id": "6fe28d7c",
   "metadata": {},
   "outputs": [
    {
     "name": "stdout",
     "output_type": "stream",
     "text": [
      "input_shape =>  4 1\n",
      "Model: \"sequential_1\"\n",
      "_________________________________________________________________\n",
      " Layer (type)                Output Shape              Param #   \n",
      "=================================================================\n",
      " conv1d_1 (Conv1D)           (None, 3, 64)             192       \n",
      "                                                                 \n",
      " max_pooling1d_1 (MaxPooling  (None, 1, 64)            0         \n",
      " 1D)                                                             \n",
      "                                                                 \n",
      " flatten_1 (Flatten)         (None, 64)                0         \n",
      "                                                                 \n",
      " dense_2 (Dense)             (None, 50)                3250      \n",
      "                                                                 \n",
      " dense_3 (Dense)             (None, 2)                 102       \n",
      "                                                                 \n",
      "=================================================================\n",
      "Total params: 3,544\n",
      "Trainable params: 3,544\n",
      "Non-trainable params: 0\n",
      "_________________________________________________________________\n"
     ]
    },
    {
     "name": "stderr",
     "output_type": "stream",
     "text": [
      "C:\\Users\\kimbj\\AppData\\Roaming\\Python\\Python39\\site-packages\\keras\\optimizers\\legacy\\adam.py:117: UserWarning: The `lr` argument is deprecated, use `learning_rate` instead.\n",
      "  super().__init__(name, **kwargs)\n"
     ]
    }
   ],
   "source": [
    "def build_model(): \n",
    "    model = models.Sequential()\n",
    "    model.add(Conv1D(filters=64, kernel_size=2, activation='relu', input_shape=(n_steps, n_features)))\n",
    "    model.add(MaxPooling1D(pool_size=2))\n",
    "    model.add(Flatten())\n",
    "    model.add(Dense(50, activation='relu'))\n",
    "    model.add(Dense(2))\n",
    "    model.compile(loss='binary_crossentropy', optimizer=Adam(lr=0.0048), metrics=['accuracy'])\n",
    "    \n",
    "    return model\n",
    "\n",
    "model = build_model() \n",
    "print(\"input_shape => \", n_steps, n_features)\n",
    "model.summary()    "
   ]
  },
  {
   "cell_type": "code",
   "execution_count": 35,
   "id": "6eed1b57",
   "metadata": {},
   "outputs": [
    {
     "name": "stdout",
     "output_type": "stream",
     "text": [
      "Epoch 1/10\n",
      "4/4 [==============================] - 0s 36ms/step - loss: 7.7161 - accuracy: 0.3250 - val_loss: 7.6978 - val_accuracy: 0.3667\n",
      "Epoch 2/10\n",
      "4/4 [==============================] - 0s 24ms/step - loss: 7.7161 - accuracy: 0.3250 - val_loss: 7.6978 - val_accuracy: 0.3667\n",
      "Epoch 3/10\n",
      "4/4 [==============================] - 0s 22ms/step - loss: 7.7161 - accuracy: 0.3250 - val_loss: 7.6978 - val_accuracy: 0.3667\n",
      "Epoch 4/10\n",
      "4/4 [==============================] - 0s 24ms/step - loss: 7.7161 - accuracy: 0.3250 - val_loss: 7.6978 - val_accuracy: 0.3667\n",
      "Epoch 5/10\n",
      "4/4 [==============================] - 0s 20ms/step - loss: 7.7161 - accuracy: 0.3250 - val_loss: 7.6978 - val_accuracy: 0.3667\n",
      "Epoch 6/10\n",
      "4/4 [==============================] - 0s 19ms/step - loss: 7.7161 - accuracy: 0.3250 - val_loss: 7.6978 - val_accuracy: 0.3667\n",
      "Epoch 7/10\n",
      "4/4 [==============================] - 0s 20ms/step - loss: 7.7161 - accuracy: 0.3250 - val_loss: 7.6978 - val_accuracy: 0.3667\n",
      "Epoch 8/10\n",
      "4/4 [==============================] - 0s 19ms/step - loss: 7.7161 - accuracy: 0.3250 - val_loss: 7.6978 - val_accuracy: 0.3667\n",
      "Epoch 9/10\n",
      "4/4 [==============================] - 0s 20ms/step - loss: 7.7161 - accuracy: 0.3250 - val_loss: 7.6978 - val_accuracy: 0.3667\n",
      "Epoch 10/10\n",
      "4/4 [==============================] - 0s 24ms/step - loss: 7.7161 - accuracy: 0.3250 - val_loss: 7.6978 - val_accuracy: 0.3667\n",
      "1/1 [==============================] - 0s 28ms/step\n"
     ]
    }
   ],
   "source": [
    "model_history=model.fit(x=X_train, y=y_train, epochs=10, batch_size=32,validation_data= (X_test,y_test))\n",
    "y_pred = model.predict(X_test)\n",
    "\n",
    "y_test_class = np.argmax(y_test,axis=1)\n",
    "y_pred_class = np.argmax(y_pred,axis=1)"
   ]
  },
  {
   "cell_type": "code",
   "execution_count": null,
   "id": "49744d50",
   "metadata": {},
   "outputs": [],
   "source": []
  }
 ],
 "metadata": {
  "kernelspec": {
   "display_name": "Python 3 (ipykernel)",
   "language": "python",
   "name": "python3"
  },
  "language_info": {
   "codemirror_mode": {
    "name": "ipython",
    "version": 3
   },
   "file_extension": ".py",
   "mimetype": "text/x-python",
   "name": "python",
   "nbconvert_exporter": "python",
   "pygments_lexer": "ipython3",
   "version": "3.9.7"
  }
 },
 "nbformat": 4,
 "nbformat_minor": 5
}
