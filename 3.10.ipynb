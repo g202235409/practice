{
 "cells": [
  {
   "cell_type": "code",
   "execution_count": 24,
   "id": "ff793c6f",
   "metadata": {},
   "outputs": [
    {
     "data": {
      "text/plain": [
       "Text(0.5, 1.0, 'Label')"
      ]
     },
     "execution_count": 24,
     "metadata": {},
     "output_type": "execute_result"
    },
    {
     "data": {
      "image/png": "[encoded data removed]",
      "text/plain": [
       "<Figure size 432x288 with 1 Axes>"
      ]
     },
     "metadata": {
      "needs_background": "light"
     },
     "output_type": "display_data"
    }
   ],
   "source": [
    "from sklearn.datasets import load_wine\n",
    "import pandas as pd\n",
    "import numpy as np\n",
    "import matplotlib.pyplot as plt\n",
    "from matplotlib import gridspec\n",
    "from sklearn.model_selection import train_test_split\n",
    "from sklearn.neighbors import KNeighborsClassifier\n",
    "import seaborn as sns\n",
    "\n",
    "wine_data = load_wine()\n",
    "df_data=pd.DataFrame(wine_data.data, columns= wine_data.feature_names)\n",
    "df_target=pd.DataFrame(wine_data.target, columns=[\"kind\"])\n",
    "totall_data= pd.concat([df_data,df_target], axis=1)\n",
    "sns.countplot(data=totall_data, x=\"kind\")\n",
    "plt.xlabel(\"kind\")\n",
    "plt.ylabel(\"Count\")\n",
    "plt.title(\"Label\")\n"
   ]
  },
  {
   "cell_type": "code",
   "execution_count": null,
   "id": "06f225a5",
   "metadata": {},
   "outputs": [],
   "source": []
  }
 ],
 "metadata": {
  "kernelspec": {
   "display_name": "Python 3 (ipykernel)",
   "language": "python",
   "name": "python3"
  },
  "language_info": {
   "codemirror_mode": {
    "name": "ipython",
    "version": 3
   },
   "file_extension": ".py",
   "mimetype": "text/x-python",
   "name": "python",
   "nbconvert_exporter": "python",
   "pygments_lexer": "ipython3",
   "version": "3.9.7"
  }
 },
 "nbformat": 4,
 "nbformat_minor": 5
}
